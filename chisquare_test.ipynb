{
  "nbformat": 4,
  "nbformat_minor": 0,
  "metadata": {
    "colab": {
      "provenance": []
    },
    "kernelspec": {
      "name": "python3",
      "display_name": "Python 3"
    },
    "language_info": {
      "name": "python"
    }
  },
  "cells": [
    {
      "cell_type": "markdown",
      "source": [
        "## Chi-Square test"
      ],
      "metadata": {
        "id": "FItHPOrVqnc1"
      }
    },
    {
      "cell_type": "markdown",
      "source": [
        "Association between Device Type and Customer Satisfaction\n",
        "Background:\n",
        "\n",
        "Mizzare Corporation has collected data on customer satisfaction levels for two types of smart home devices: Smart Thermostats and Smart Lights. They want to determine if there's a significant association between the type of device purchased and the customer's satisfaction level.\n"
      ],
      "metadata": {
        "id": "EKbvPT-5qqQf"
      }
    },
    {
      "cell_type": "markdown",
      "source": [
        "Data Provided:\n",
        "The data is summarized in a contingency table showing the counts of customers in each satisfaction level for both types of devices:\n",
        "\n",
        "Satisfaction\t       Smart Thermostat\t  Smart Light   \tTotal\n",
        "\n",
        "Very Satisfied\t     50\t               70\t          120\n",
        "\n",
        "---\n",
        "\n",
        "\n",
        "\n",
        "Satisfied\t           80\t               100      \t180\n",
        "\n",
        "\n",
        "---\n",
        "\n",
        "\n",
        "Neutral\t              60                 \t90\t        150\n",
        "\n",
        "\n",
        "---\n",
        "\n",
        "\n",
        "Unsatisfied\t           30\t                 50       \t80\n",
        "\n",
        "\n",
        "---\n",
        "\n",
        "\n",
        "Very Unsatisfied\t      20              \t50\t        70\n",
        "\n",
        "\n",
        "---\n",
        "\n",
        "\n",
        "Total                 \t240\t               360      \t600\n"
      ],
      "metadata": {
        "id": "U5KI8Gy8qwp9"
      }
    },
    {
      "cell_type": "markdown",
      "source": [
        "Objective:\n",
        "To use the Chi-Square test for independence to determine if there's a significant association between the type of smart home device purchased (Smart Thermostats vs. Smart Lights) and the customer satisfaction level.\n",
        "Assignment Tasks:\n",
        "1. State the Hypotheses:\n",
        "2. Compute the Chi-Square Statistic:\n",
        "3. Determine the Critical Value:\n",
        "Using the significance level (alpha) of 0.05 and the degrees of freedom (which is the number of categories minus 1)\n",
        "4. Make a Decision:\n"
      ],
      "metadata": {
        "id": "UPfngPZ1sQae"
      }
    },
    {
      "cell_type": "markdown",
      "source": [
        "1. State the Hypotheses:\n",
        "\n",
        "Null Hypothesis (H₀):\n",
        "\n",
        "  There is no significant association between the type of smart home device purchased (Smart Thermostats vs. Smart Lights) and the customer satisfaction level.\n",
        "\n",
        "Alternative Hypothesis (H₁):\n",
        "\n",
        "  There is a significant association between the type of smart home device purchased (Smart Thermostats vs. Smart Lights) and the customer satisfaction level."
      ],
      "metadata": {
        "id": "5Grk-Cy01ARW"
      }
    },
    {
      "cell_type": "markdown",
      "source": [
        "2. Compute the Chi-Square Statistic:\n"
      ],
      "metadata": {
        "id": "C_wxfA1e1luP"
      }
    },
    {
      "cell_type": "code",
      "source": [
        "import numpy as np\n",
        "from scipy.stats import chi2_contingency\n",
        "import pandas as pd\n",
        "import matplotlib.pyplot as plt\n",
        "import seaborn as sns\n",
        "\n",
        "observed = np.array([[50,70],   # Very Satisfied\n",
        "                     [80, 100],    # Satisfied\n",
        "                     [60,90],     # Neutral\n",
        "                     [30,50],     #Unsatisfied\n",
        "                     [20,50]])   # Very Unsatisfied\n",
        "\n",
        "# Compute chi-square statistic, p-value, degrees of freedom, and expected frequencies\n",
        "# You already imported chi2_contingency, so you can use it directly\n",
        "chi2, p, dof, expected = chi2_contingency(observed)\n",
        "chisquares_results = chi2_contingency(observed) # This line is redundant now\n",
        "\n",
        "print(f\"Chi-square statistic: {chi2:.2f}\") # You probably meant chi2 here\n",
        "print(f\"P-value: {p:.4f}\")\n",
        "print(f\"Degrees of freedom: {dof}\")\n",
        "print(\"Expected frequencies:\")"
      ],
      "metadata": {
        "colab": {
          "base_uri": "https://localhost:8080/"
        },
        "id": "Qrdb41aJEdcb",
        "outputId": "56a54ea8-ef5b-4c13-d088-984f0b4ad5ed"
      },
      "execution_count": 39,
      "outputs": [
        {
          "output_type": "stream",
          "name": "stdout",
          "text": [
            "Chi-square statistic: 5.64\n",
            "P-value: 0.2278\n",
            "Degrees of freedom: 4\n",
            "Expected frequencies:\n",
            "[[ 48.  72.]\n",
            " [ 72. 108.]\n",
            " [ 60.  90.]\n",
            " [ 32.  48.]\n",
            " [ 28.  42.]]\n"
          ]
        }
      ]
    },
    {
      "cell_type": "markdown",
      "source": [
        "3. Determine the Critical Value:\n",
        "\n",
        "For a significance level (alpha) of 0.05 and degrees of freedom (df), you can determine the critical value using scipy.stats.chi2.ppf function"
      ],
      "metadata": {
        "id": "0_V12fP41VyK"
      }
    },
    {
      "cell_type": "code",
      "source": [
        "from scipy.stats import chi2\n",
        "\n",
        "# Degrees of freedom\n",
        "df = (observed.shape[0] - 1) * (observed.shape[1] - 1)\n",
        "\n",
        "# Critical value for alpha = 0.05 and df\n",
        "critical_value = chi2.ppf(0.95, df)\n",
        "\n",
        "print(f\"Critical value: {critical_value:.2f}\")\n"
      ],
      "metadata": {
        "colab": {
          "base_uri": "https://localhost:8080/"
        },
        "id": "a-GFoTzc5wGf",
        "outputId": "9a223c90-1125-4610-ea13-b5ecfb9cfca1"
      },
      "execution_count": 17,
      "outputs": [
        {
          "output_type": "stream",
          "name": "stdout",
          "text": [
            "Critical value: 9.49\n"
          ]
        }
      ]
    },
    {
      "cell_type": "markdown",
      "source": [
        "4. Make a Decision:\n",
        "\n",
        "Compare the computed Chi-Square statistic (chi2) with the critical value:"
      ],
      "metadata": {
        "id": "-fBDERVr59dX"
      }
    },
    {
      "cell_type": "code",
      "source": [
        "# Make a decision based on the comparison of chi2_stat and critical_value\n",
        "# Assuming 'chi2_stat' is the actual chi-squared statistic\n",
        "chi2_statistic = chisquares_results.statistic # Extract the chi-squared statistic\n",
        "if chi2_statistic > critical_value:\n",
        "    print(\"Reject the null hypothesis: There is a no significant association between the type of smart home device and customer satisfaction level.\")\n",
        "else:\n",
        "    print(\"Fail to reject the null hypothesis: There is significant association between the type of smart home device and customer satisfaction level.\")"
      ],
      "metadata": {
        "colab": {
          "base_uri": "https://localhost:8080/"
        },
        "id": "Q9sQrpjCKD3T",
        "outputId": "0809adb1-e840-488d-9cce-8070da4a365e"
      },
      "execution_count": 49,
      "outputs": [
        {
          "output_type": "stream",
          "name": "stdout",
          "text": [
            "Fail to reject the null hypothesis: There is significant association between the type of smart home device and customer satisfaction level.\n"
          ]
        }
      ]
    }
  ]
}