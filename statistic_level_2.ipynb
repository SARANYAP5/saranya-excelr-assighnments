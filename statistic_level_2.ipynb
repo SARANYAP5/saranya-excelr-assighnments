{
  "nbformat": 4,
  "nbformat_minor": 0,
  "metadata": {
    "colab": {
      "provenance": [],
      "authorship_tag": "ABX9TyNJd3bjbhjAESwbd8t5FVX0",
      "include_colab_link": true
    },
    "kernelspec": {
      "name": "python3",
      "display_name": "Python 3"
    },
    "language_info": {
      "name": "python"
    }
  },
  "cells": [
    {
      "cell_type": "markdown",
      "metadata": {
        "id": "view-in-github",
        "colab_type": "text"
      },
      "source": [
        "<a href=\"https://colab.research.google.com/github/SARANYAP5/saranya-excelr-assighnments/blob/main/statistic_level_2.ipynb\" target=\"_parent\"><img src=\"https://colab.research.google.com/assets/colab-badge.svg\" alt=\"Open In Colab\"/></a>"
      ]
    },
    {
      "cell_type": "markdown",
      "source": [
        "Assignment Tasks\n",
        "\n",
        "\n",
        "a. Build 99% Confidence Interval Using Sample Standard Deviation\n",
        "Assuming the sample is representative of the population, construct a 99% confidence interval for the mean number of characters printed before the print-head fails using the sample standard deviation. Explain the steps you take and the rationale behind using the t-distribution for this task.\n"
      ],
      "metadata": {
        "id": "VZCzkSeUTpmy"
      }
    },
    {
      "cell_type": "code",
      "execution_count": null,
      "metadata": {
        "colab": {
          "base_uri": "https://localhost:8080/"
        },
        "id": "qcjQhnNzTL4Y",
        "outputId": "393482e4-2d85-40c5-f6a1-62830033ad5e"
      },
      "outputs": [
        {
          "output_type": "stream",
          "name": "stdout",
          "text": [
            "sample data: [1.13, 1.55, 1.43, 0.92, 1.25, 1.36, 1.32, 0.85, 1.07, 1.48, 1.2, 1.33, 1.18, 1.22, 1.29]\n",
            "sample mean: 1.2386666666666666\n",
            "sample std: 0.18661427836285438\n",
            "sample size: 15\n",
            "confidence level: 0.995\n",
            "t statistics: 2.97684273411266\n",
            "margin of error: 0.14343499802810397\n",
            "confidence interval: (1.0952316686385626, 1.3821016646947706)\n"
          ]
        }
      ],
      "source": [
        "import numpy as np\n",
        "import pandas as pd\n",
        "from scipy import stats\n",
        "data=[1.13, 1.55, 1.43, 0.92, 1.25, 1.36, 1.32, 0.85, 1.07, 1.48, 1.20, 1.33, 1.18, 1.22, 1.29]\n",
        "print(f\"sample data: {data:}\")\n",
        "sample_mean=np.mean(data)\n",
        "print(f\"sample mean: {sample_mean}\")\n",
        "sample_std=np.std(data)\n",
        "print(f\"sample std: {sample_std}\")\n",
        "n=len(data)\n",
        "print(f\"sample size: {n}\")\n",
        "\n",
        "confidence_level = 0.99   # Confidence level\n",
        "df=n-1\n",
        "cl=(1 - (1 - confidence_level) / 2)\n",
        "print(f\"confidence level: {cl}\")\n",
        "#Calculate critical value (Z) for 99% confidence level\n",
        "t_statistics=stats.t.ppf(cl,df)\n",
        "print(f\"t statistics: {t_statistics}\")\n",
        "\n",
        "#find margin of error\n",
        "margin_of_error=t_statistics*sample_std/np.sqrt(n)\n",
        "print(f\"margin of error: {margin_of_error}\")\n",
        "\n",
        "#find confidence interval\n",
        "confidence_interval=(sample_mean-margin_of_error,sample_mean+margin_of_error)\n",
        "print(f\"confidence interval: {confidence_interval:}\")\n",
        "\n",
        "\n",
        "\n",
        "\n"
      ]
    },
    {
      "cell_type": "markdown",
      "source": [
        "b. Build 99% Confidence Interval Using Known Population Standard Deviation\n",
        "If it were known that the population standard deviation is 0.2 million characters, construct a 99% confidence interval for the mean number of characters printed before failure.\n"
      ],
      "metadata": {
        "id": "royRFByI2lfC"
      }
    },
    {
      "cell_type": "code",
      "source": [
        "import numpy as np\n",
        "import pandas as pd\n",
        "from scipy import stats\n",
        "data=[1.13, 1.55, 1.43, 0.92, 1.25, 1.36, 1.32, 0.85, 1.07, 1.48, 1.20, 1.33, 1.18, 1.22, 1.29]\n",
        "print(f\"sample data: {data:}\")\n",
        "sample_mean=np.mean(data)\n",
        "print(f\"sample mean: {sample_mean}\")\n",
        "sample_std=np.std(data)\n",
        "print(f\"sample std: {sample_std}\")\n",
        "n=len(data)\n",
        "print(f\"sample size: {n}\")\n",
        "population_std=0.2\n",
        "print(f\"population std: {population_std}\")\n",
        "\n",
        "confidence_level = 0.99   # Confidence level\n",
        "cl=(1 - (1 - confidence_level) / 2)\n",
        "print(f\"confidence level: {cl}\")\n",
        "#Calculate critical value (Z) for 99% confidence level\n",
        "z_statistics= stats.norm.ppf(cl)# find t statistics\n",
        "print(f\"z statistics: {z_statistics}\")\n",
        "\n",
        "#find margin of error\n",
        "margin_of_error=z_statistics*(population_std/np.sqrt(n))\n",
        "print(f\"margin of error: {margin_of_error}\")\n",
        "\n",
        "#find confidence interval\n",
        "confidence_interval=(sample_mean-margin_of_error,sample_mean+margin_of_error)\n",
        "print(f\"confidence interval: {confidence_interval:}\")\n",
        "\n",
        "\n",
        "\n"
      ],
      "metadata": {
        "colab": {
          "base_uri": "https://localhost:8080/"
        },
        "id": "ujgcT3yagqnv",
        "outputId": "867afead-80ba-41b3-d126-75e451f68957"
      },
      "execution_count": null,
      "outputs": [
        {
          "output_type": "stream",
          "name": "stdout",
          "text": [
            "sample data: [1.13, 1.55, 1.43, 0.92, 1.25, 1.36, 1.32, 0.85, 1.07, 1.48, 1.2, 1.33, 1.18, 1.22, 1.29]\n",
            "sample mean: 1.2386666666666666\n",
            "sample std: 0.18661427836285438\n",
            "sample size: 15\n",
            "population std: 0.2\n",
            "confidence level: 0.995\n",
            "z statistics: 2.5758293035489004\n",
            "margin of error: 0.13301525327090588\n",
            "confidence interval: (1.1056514133957607, 1.3716819199375725)\n"
          ]
        }
      ]
    }
  ]
}