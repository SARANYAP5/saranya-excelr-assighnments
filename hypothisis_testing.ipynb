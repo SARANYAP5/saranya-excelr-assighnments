{
  "nbformat": 4,
  "nbformat_minor": 0,
  "metadata": {
    "colab": {
      "provenance": [],
      "authorship_tag": "ABX9TyOEbg2XjkO7AWT9R6Dph9HN",
      "include_colab_link": true
    },
    "kernelspec": {
      "name": "python3",
      "display_name": "Python 3"
    },
    "language_info": {
      "name": "python"
    }
  },
  "cells": [
    {
      "cell_type": "markdown",
      "metadata": {
        "id": "view-in-github",
        "colab_type": "text"
      },
      "source": [
        "<a href=\"https://colab.research.google.com/github/SARANYAP5/saranya-excelr-assighnments/blob/main/hypothisis_testing.ipynb\" target=\"_parent\"><img src=\"https://colab.research.google.com/assets/colab-badge.svg\" alt=\"Open In Colab\"/></a>"
      ]
    },
    {
      "cell_type": "markdown",
      "source": [
        "\n",
        "\n",
        "## ---HYPOTHESIS TESTING\n",
        "\n"
      ],
      "metadata": {
        "id": "RaOwRA9aA5Wc"
      }
    },
    {
      "cell_type": "markdown",
      "source": [
        "\n",
        "Background:\n",
        "ˉxˉ = sample mean weekly cost (Rs. 3,050) Bombay hospitality Ltd. operates a franchise model for producing exotic Norwegian dinners throughout New England. The operating cost for a franchise in a week (W) is given by the equation W = $1,000 + $5X, where X represents the number of units produced in a week. Recent feedback from restaurant owners suggests that this cost model may no longer be accurate, as their observed weekly operating costs are higher.\n",
        "\n",
        "\n",
        "Objective:\n",
        "\n",
        "\n",
        "To investigate the restaurant owners' claim about the increase in weekly operating costs using hypothesis testing.\n",
        "\n",
        "Data Provided:\n",
        "\n",
        "•\tThe theoretical weekly operating cost model: W = $1,000 + $5X\n",
        "\n",
        "•\tSample of 25 restaurants with a mean weekly cost of Rs. 3,050\n",
        "\n",
        "•\tNumber of units produced in a week (X) follows a normal distribution with a mean (μ) of 600 units and a standard deviation (σ) of 25 units\n",
        "\n"
      ],
      "metadata": {
        "id": "1qUT8C0kBAoQ"
      }
    },
    {
      "cell_type": "markdown",
      "source": [
        "## Assignment Tasks:"
      ],
      "metadata": {
        "id": "irtbBNJnBqkr"
      }
    },
    {
      "cell_type": "markdown",
      "source": [
        "# 1. State the Hypotheses statement:"
      ],
      "metadata": {
        "id": "pc_d9qGIBx9f"
      }
    },
    {
      "cell_type": "markdown",
      "source": [
        "H\n",
        "0\n",
        "​\n",
        "  :       μ <= 1000+(5*600)\n",
        "\n",
        "  H\n",
        "1\n",
        "​\n",
        " :  μ >  1000+(5*600)\n"
      ],
      "metadata": {
        "id": "IhWwCP3dC19G"
      }
    },
    {
      "cell_type": "markdown",
      "source": [
        "2. Calculate the Test Statistic:\n",
        "Use the following formula to calculate the test statistic (t):\n",
        "where:\n",
        "•\n",
        "•\tμ = theoretical mean weekly cost according to the cost model (W = $1,000 + $5X for X = 600 units)\n",
        "\n",
        "•\tσ = 5*25 units\n",
        "\n",
        "•\tn = sample size (25 restaurants)\n"
      ],
      "metadata": {
        "id": "NCXMFvalD4i1"
      }
    },
    {
      "cell_type": "code",
      "execution_count": null,
      "metadata": {
        "colab": {
          "base_uri": "https://localhost:8080/"
        },
        "id": "U1ixv7QQA3Es",
        "outputId": "fd8ba3b3-05c6-4df3-b1c1-06d2764d9469"
      },
      "outputs": [
        {
          "output_type": "stream",
          "name": "stdout",
          "text": [
            "theoretical_mean: 4000\n",
            "sample_mean: 38.125\n",
            "sample_std: 125\n",
            "z_statistical: -158.475\n"
          ]
        }
      ],
      "source": [
        "#here s = 25\n",
        "import numpy as np\n",
        "from scipy import stats\n",
        "#z statistical value\n",
        "n=25\n",
        "sample_mean=3050/80 #convert rs into dollors\n",
        "theoretical_mean=1000+(5*600)\n",
        "std=5*25\n",
        "\n",
        "z_statistical=(sample_mean-theoretical_mean)/(std/np.sqrt(n))\n",
        "\n",
        "print(\"theoretical_mean:\",theoretical_mean)\n",
        "print(\"sample_mean:\",sample_mean)\n",
        "print(\"sample_std:\",std)\n",
        "print(\"z_statistical:\",z_statistical)"
      ]
    },
    {
      "cell_type": "markdown",
      "source": [
        "3. Determine the Critical Value:\n",
        "Using the alpha level of 5% (α = 0.05), determine the critical value from the standard normal (Z) distribution table.\n"
      ],
      "metadata": {
        "id": "RaMucQm0AetE"
      }
    },
    {
      "cell_type": "code",
      "source": [
        "alpha = 0.05\n",
        "z_critical = stats.norm.ppf(1-alpha)\n",
        "print(\"z_critical:\",z_critical)\n",
        "print(z_critical)"
      ],
      "metadata": {
        "colab": {
          "base_uri": "https://localhost:8080/"
        },
        "id": "yYJkBYK1AtJ9",
        "outputId": "55c6607b-0f71-4cb7-91f6-a908e3ce8d06"
      },
      "execution_count": null,
      "outputs": [
        {
          "output_type": "stream",
          "name": "stdout",
          "text": [
            "z_critical: 1.6448536269514722\n",
            "1.6448536269514722\n"
          ]
        }
      ]
    },
    {
      "cell_type": "markdown",
      "source": [
        "4. Make a Decision:\n",
        "\n",
        "Compare the test statistic with the critical value to decide whether to reject the null hypothesis3.\n"
      ],
      "metadata": {
        "id": "dHDw1VTXLvWI"
      }
    },
    {
      "cell_type": "code",
      "source": [
        "# Check if test statistic t is less than critical t-value\n",
        "if z_statistical < z_critical:\n",
        "    print(f\"Fail to reject the null hypothesis. z statistical {z_statistical}is less than z_critical {z_critical}\")\n",
        "else:\n",
        "    print(\"Reject the null hypothesis\")\n"
      ],
      "metadata": {
        "colab": {
          "base_uri": "https://localhost:8080/"
        },
        "id": "hZ4StHHwM7QD",
        "outputId": "fbd0d749-7c81-4866-a044-e5dc54d2853a"
      },
      "execution_count": null,
      "outputs": [
        {
          "output_type": "stream",
          "name": "stdout",
          "text": [
            "Fail to reject the null hypothesis. z statistical -158.475is less than z_critical 1.6448536269514722\n"
          ]
        }
      ]
    },
    {
      "cell_type": "markdown",
      "source": [
        "# conclusion\n",
        "\n",
        "  Based on the decision in step 4, conclude there is no strong evidence to support the restaurant owners' claim that the weekly operating costs are higher than the model suggests."
      ],
      "metadata": {
        "id": "GYOB8PmQOJUF"
      }
    },
    {
      "cell_type": "markdown",
      "source": [],
      "metadata": {
        "id": "qLSYEqb-L0RT"
      }
    }
  ]
}